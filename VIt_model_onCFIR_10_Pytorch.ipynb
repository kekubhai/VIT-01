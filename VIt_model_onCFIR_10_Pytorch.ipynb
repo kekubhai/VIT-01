{
  "nbformat": 4,
  "nbformat_minor": 0,
  "metadata": {
    "colab": {
      "provenance": [],
      "authorship_tag": "ABX9TyPmluYPkPzcpyBfKI7CbIda",
      "include_colab_link": true
    },
    "kernelspec": {
      "name": "python3",
      "display_name": "Python 3"
    },
    "language_info": {
      "name": "python"
    }
  },
  "cells": [
    {
      "cell_type": "markdown",
      "metadata": {
        "id": "view-in-github",
        "colab_type": "text"
      },
      "source": [
        "<a href=\"https://colab.research.google.com/github/kekubhai/VIT-01/blob/main/VIt_model_onCFIR_10_Pytorch.ipynb\" target=\"_parent\"><img src=\"https://colab.research.google.com/assets/colab-badge.svg\" alt=\"Open In Colab\"/></a>"
      ]
    },
    {
      "cell_type": "markdown",
      "source": [],
      "metadata": {
        "id": "4aSzbt4Cm_xK"
      }
    },
    {
      "cell_type": "code",
      "source": [],
      "metadata": {
        "id": "UvYNrPVvnChd"
      },
      "execution_count": 1,
      "outputs": []
    },
    {
      "cell_type": "code",
      "source": [],
      "metadata": {
        "id": "Ir_nYuPAmZSO"
      },
      "execution_count": 1,
      "outputs": []
    },
    {
      "cell_type": "code",
      "execution_count": 2,
      "metadata": {
        "id": "Qe8lOAX_lDw8"
      },
      "outputs": [],
      "source": [
        "import torch\n",
        "import torch.nn as nn\n",
        "import torch.nn.functional as F\n",
        "import torch.optim as optim\n",
        "import torchvision\n",
        "from torch.utils.data import DataLoader\n",
        "from torchvision import datasets,transforms\n",
        "import numpy as np\n",
        "import random\n",
        "import matplotlib.pyplot as plt\n"
      ]
    },
    {
      "cell_type": "code",
      "source": [],
      "metadata": {
        "id": "YWfFwTrZpPZS"
      },
      "execution_count": 2,
      "outputs": []
    },
    {
      "cell_type": "code",
      "source": [
        "#setting up device agnostic code\n",
        "device='cuda' if torch.cuda.is_available() else \"cpu\"\n",
        "print(device)"
      ],
      "metadata": {
        "colab": {
          "base_uri": "https://localhost:8080/"
        },
        "id": "mxBUFwEhnHG1",
        "outputId": "56a5f657-d596-4436-8e83-3c930b33fcaa"
      },
      "execution_count": 3,
      "outputs": [
        {
          "output_type": "stream",
          "name": "stdout",
          "text": [
            "cpu\n"
          ]
        }
      ]
    },
    {
      "cell_type": "code",
      "source": [
        "torchvision.__version__"
      ],
      "metadata": {
        "colab": {
          "base_uri": "https://localhost:8080/",
          "height": 35
        },
        "id": "poXECwqpnDhg",
        "outputId": "6ad8518a-bd95-4de8-c2dd-61d1948520d0"
      },
      "execution_count": 4,
      "outputs": [
        {
          "output_type": "execute_result",
          "data": {
            "text/plain": [
              "'0.21.0+cu124'"
            ],
            "application/vnd.google.colaboratory.intrinsic+json": {
              "type": "string"
            }
          },
          "metadata": {},
          "execution_count": 4
        }
      ]
    },
    {
      "cell_type": "code",
      "source": [
        "torch.cuda.is_available()"
      ],
      "metadata": {
        "colab": {
          "base_uri": "https://localhost:8080/"
        },
        "id": "A3xXsHA6nbRz",
        "outputId": "3593ae74-fb0d-440f-fb0f-5f3cd64d90c0"
      },
      "execution_count": 5,
      "outputs": [
        {
          "output_type": "execute_result",
          "data": {
            "text/plain": [
              "False"
            ]
          },
          "metadata": {},
          "execution_count": 5
        }
      ]
    },
    {
      "cell_type": "code",
      "source": [
        "#Set the seed\n",
        "torch.manual_seed(42)\n",
        "random.seed(42)"
      ],
      "metadata": {
        "id": "ulsryxW1niLV"
      },
      "execution_count": 6,
      "outputs": []
    },
    {
      "cell_type": "markdown",
      "source": [],
      "metadata": {
        "id": "Q1KxiZaFs0M6"
      }
    },
    {
      "cell_type": "code",
      "source": [
        "#setting the hyperparameters\n",
        "BATCH_SIZE=128\n",
        "EPOCHS=10\n",
        "LEARNING_RATE=3e-4\n",
        "PATCH_SIZE=4\n",
        "NUM_CLASSES=10\n",
        "IMAGE_SIZE=32\n",
        "CHANNELS=3\n",
        "EMBED_DIM=256\n",
        "NUM_HEADS=8\n",
        "DEPTH=6\n",
        "MLP_DIM=512\n",
        "DROP_RATE=0.1\n"
      ],
      "metadata": {
        "id": "S6flSgFprFT_"
      },
      "execution_count": 16,
      "outputs": []
    },
    {
      "cell_type": "markdown",
      "source": [
        "Defining the transformers\n"
      ],
      "metadata": {
        "id": "OYSQ__nFs1Cw"
      }
    },
    {
      "cell_type": "code",
      "source": [
        "transform=transforms.Compose([\n",
        "    transforms.ToTensor(),\n",
        "    transforms.Normalize((0.5),(0.6))\n",
        "\n",
        "])"
      ],
      "metadata": {
        "id": "o8LJGj0bsyCI"
      },
      "execution_count": 8,
      "outputs": []
    },
    {
      "cell_type": "code",
      "source": [
        "#Getting a dataset\n",
        "train_dataset=datasets.CIFAR10(root='./data',train=True,download=True,transform=transform)\n",
        "test_dataset=datasets.CIFAR10(root='./data',train=False,download=True,transform=transform)\n"
      ],
      "metadata": {
        "colab": {
          "base_uri": "https://localhost:8080/"
        },
        "id": "KHx5z0NJtXUy",
        "outputId": "504958e6-207e-45a9-94a5-7a3ade17982d"
      },
      "execution_count": 9,
      "outputs": [
        {
          "output_type": "stream",
          "name": "stderr",
          "text": [
            "100%|██████████| 170M/170M [00:02<00:00, 76.0MB/s]\n"
          ]
        }
      ]
    },
    {
      "cell_type": "code",
      "source": [
        "train_dataset"
      ],
      "metadata": {
        "colab": {
          "base_uri": "https://localhost:8080/"
        },
        "id": "rf026l55tjOi",
        "outputId": "ccfb5766-387b-453e-d163-91dab69c2198"
      },
      "execution_count": 10,
      "outputs": [
        {
          "output_type": "execute_result",
          "data": {
            "text/plain": [
              "Dataset CIFAR10\n",
              "    Number of datapoints: 50000\n",
              "    Root location: ./data\n",
              "    Split: Train\n",
              "    StandardTransform\n",
              "Transform: Compose(\n",
              "               ToTensor()\n",
              "               Normalize(mean=0.5, std=0.6)\n",
              "           )"
            ]
          },
          "metadata": {},
          "execution_count": 10
        }
      ]
    },
    {
      "cell_type": "code",
      "source": [
        "len(train_dataset)"
      ],
      "metadata": {
        "colab": {
          "base_uri": "https://localhost:8080/"
        },
        "id": "WuStTOFOvbEn",
        "outputId": "4f7c5427-31b7-4d78-daf8-49500b4ea463"
      },
      "execution_count": 11,
      "outputs": [
        {
          "output_type": "execute_result",
          "data": {
            "text/plain": [
              "50000"
            ]
          },
          "metadata": {},
          "execution_count": 11
        }
      ]
    },
    {
      "cell_type": "code",
      "source": [
        "## converting datasets into data loaders\n",
        "train_loader=DataLoader(dataset=train_dataset,\n",
        "                        batch_size=BATCH_SIZE,\n",
        "                        shuffle=False)\n",
        "test_loader=DataLoader(dataset=test_dataset,\n",
        "                       batch_size=BATCH_SIZE,\n",
        "                       shuffle=False)\n"
      ],
      "metadata": {
        "id": "4NHVhEMmwF0F"
      },
      "execution_count": 12,
      "outputs": []
    },
    {
      "cell_type": "code",
      "source": [
        "#Let's check out what we've created\n",
        "print(f\"DataLoader: {train_loader, test_loader}\")\n",
        "print(f\"Length of train loader : {len(train_loader) } batch\")"
      ],
      "metadata": {
        "colab": {
          "base_uri": "https://localhost:8080/"
        },
        "id": "5kE-TET9zUSh",
        "outputId": "02217926-94bc-4026-de2c-7b6ff66d6e46"
      },
      "execution_count": 13,
      "outputs": [
        {
          "output_type": "stream",
          "name": "stdout",
          "text": [
            "DataLoader: (<torch.utils.data.dataloader.DataLoader object at 0x793c00a62a90>, <torch.utils.data.dataloader.DataLoader object at 0x793c00a63a10>)\n",
            "Length of train loader : 391 batch\n"
          ]
        }
      ]
    },
    {
      "cell_type": "code",
      "source": [],
      "metadata": {
        "id": "dqk5FaYgmhpQ"
      },
      "execution_count": null,
      "outputs": []
    },
    {
      "cell_type": "code",
      "source": [
        "#building the vision transformer from scratch\n",
        "PATCH_SIZE\n"
      ],
      "metadata": {
        "id": "hWapJj910vf4",
        "colab": {
          "base_uri": "https://localhost:8080/"
        },
        "outputId": "31cf6838-571f-4b4e-d3a5-cea9b12c5fbf"
      },
      "execution_count": 18,
      "outputs": [
        {
          "output_type": "execute_result",
          "data": {
            "text/plain": [
              "4"
            ]
          },
          "metadata": {},
          "execution_count": 18
        }
      ]
    },
    {
      "cell_type": "code",
      "source": [
        "class PatchEmbedding(nn.Module):\n",
        "       def __init__(self,\n",
        "                    img_size,\n",
        "                    patch_size,\n",
        "                    in_channels,\n",
        "                    embed_dim):\n",
        "         super().__init__()\n",
        "         self.patch_size=patch_size\n",
        "         self.proj=nn.Conv2(in_channels=in_channels,\n",
        "                            out_channels=embed_dim,\n",
        "                            kernel_size=patch_size,\n",
        "                            stride=patch_size)\n",
        "         num_patches=(img_size//patch_size)**2\n",
        "         self.cls_token=nn.Parameter(torch.randn(1,1,embed_dim))\n",
        "         self.pos_embedding=nn.Parameter(torch.randn(1,1+num_patches,embed_dim))\n",
        "       def forward(self,x:torch.Tensor):\n",
        "         B=x.size(0)\n",
        "         x=self.proj(x)\n",
        "         x=x.flatten(2)\n",
        "         x=x.transpose(1,2)\n",
        "         cls_token=self.cls_token(B,-1,-1)\n",
        "         x=torch.cat((cls_token,x),dim=1)\n",
        "         x=x+self.pos_embedding\n",
        "         return x"
      ],
      "metadata": {
        "id": "IHRO8Ey2o8jM"
      },
      "execution_count": 23,
      "outputs": []
    },
    {
      "cell_type": "code",
      "source": [
        "class TransformerEncoderLayer(nn.Module):\n",
        "  def __init__(self,embed_dim, num_heads,mlp_dim,drop_rate):\n",
        "    super().__init__()\n",
        "    self.norm1=nn.LayerNorm(embed_dim)\n",
        "    self.attn=nn.MultiheadAttention(embed_dim,num_heads,dropout=drop_rate,batch_first=True)\n",
        "    self.norm2=nn.LayerNorm(embed_dim)\n",
        "    self.mlp=MLP(embed_dim,mlp_dim,drop_rate)\n",
        "  def forward(self,x):\n",
        "    x=x+self.attn(self.norm1(x),self.norm1(x),self.norm1(x))[0]\n",
        "    x=x+self.mlp(self.norm2(x))\n",
        "    return x\n",
        ""
      ],
      "metadata": {
        "id": "KLEcDg4cuLuU"
      },
      "execution_count": 25,
      "outputs": []
    },
    {
      "cell_type": "code",
      "source": [],
      "metadata": {
        "id": "O8tFcURgveXR"
      },
      "execution_count": null,
      "outputs": []
    }
  ]
}