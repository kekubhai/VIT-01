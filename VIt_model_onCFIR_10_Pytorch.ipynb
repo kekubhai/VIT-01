{
  "nbformat": 4,
  "nbformat_minor": 0,
  "metadata": {
    "colab": {
      "provenance": [],
      "authorship_tag": "ABX9TyPkd+7QK0fitorebN02FFfw",
      "include_colab_link": true
    },
    "kernelspec": {
      "name": "python3",
      "display_name": "Python 3"
    },
    "language_info": {
      "name": "python"
    }
  },
  "cells": [
    {
      "cell_type": "markdown",
      "metadata": {
        "id": "view-in-github",
        "colab_type": "text"
      },
      "source": [
        "<a href=\"https://colab.research.google.com/github/kekubhai/VIT-01/blob/main/VIt_model_onCFIR_10_Pytorch.ipynb\" target=\"_parent\"><img src=\"https://colab.research.google.com/assets/colab-badge.svg\" alt=\"Open In Colab\"/></a>"
      ]
    },
    {
      "cell_type": "code",
      "source": [
        "torch.__version__"
      ],
      "metadata": {
        "colab": {
          "base_uri": "https://localhost:8080/",
          "height": 35
        },
        "id": "Ir_nYuPAmZSO",
        "outputId": "ed40e149-acd2-4480-88de-5aa28c0b81bc"
      },
      "execution_count": 3,
      "outputs": [
        {
          "output_type": "execute_result",
          "data": {
            "text/plain": [
              "'2.6.0+cu124'"
            ],
            "application/vnd.google.colaboratory.intrinsic+json": {
              "type": "string"
            }
          },
          "metadata": {},
          "execution_count": 3
        }
      ]
    },
    {
      "cell_type": "markdown",
      "source": [],
      "metadata": {
        "id": "4aSzbt4Cm_xK"
      }
    },
    {
      "cell_type": "code",
      "source": [],
      "metadata": {
        "id": "UvYNrPVvnChd"
      },
      "execution_count": null,
      "outputs": []
    },
    {
      "cell_type": "code",
      "execution_count": 5,
      "metadata": {
        "id": "Qe8lOAX_lDw8"
      },
      "outputs": [],
      "source": [
        "import torch\n",
        "import torch.nn as nn\n",
        "import torch.nn.functional as F\n",
        "import torch.optim as optim\n",
        "import torchvision\n",
        "from torch.utils.data import DataLoader\n",
        "from torchvision import datasets,transforms\n",
        "import numpy as np\n",
        "import random\n",
        "import matplotlib.pyplot as plt\n"
      ]
    },
    {
      "cell_type": "code",
      "source": [],
      "metadata": {
        "id": "YWfFwTrZpPZS"
      },
      "execution_count": null,
      "outputs": []
    },
    {
      "cell_type": "code",
      "source": [
        "#setting up device agnostic code\n",
        "device='cuda' if torch.cuda.is_available() else \"cpu\"\n",
        "print(device)"
      ],
      "metadata": {
        "colab": {
          "base_uri": "https://localhost:8080/"
        },
        "id": "mxBUFwEhnHG1",
        "outputId": "11beb84d-2128-4af8-c690-316e7468c844"
      },
      "execution_count": 11,
      "outputs": [
        {
          "output_type": "stream",
          "name": "stdout",
          "text": [
            "cpu\n"
          ]
        }
      ]
    },
    {
      "cell_type": "code",
      "source": [
        "torchvision.__version__"
      ],
      "metadata": {
        "colab": {
          "base_uri": "https://localhost:8080/",
          "height": 35
        },
        "id": "poXECwqpnDhg",
        "outputId": "fb53fa02-48c7-428c-c8a4-a1d92766ee2f"
      },
      "execution_count": 6,
      "outputs": [
        {
          "output_type": "execute_result",
          "data": {
            "text/plain": [
              "'0.21.0+cu124'"
            ],
            "application/vnd.google.colaboratory.intrinsic+json": {
              "type": "string"
            }
          },
          "metadata": {},
          "execution_count": 6
        }
      ]
    },
    {
      "cell_type": "code",
      "source": [
        "torch.cuda.is_available()"
      ],
      "metadata": {
        "colab": {
          "base_uri": "https://localhost:8080/"
        },
        "id": "A3xXsHA6nbRz",
        "outputId": "6ea3af4e-27cc-43f4-e453-c38366de6157"
      },
      "execution_count": 14,
      "outputs": [
        {
          "output_type": "execute_result",
          "data": {
            "text/plain": [
              "False"
            ]
          },
          "metadata": {},
          "execution_count": 14
        }
      ]
    },
    {
      "cell_type": "code",
      "source": [
        "#Set the seed\n",
        "torch.manual_seed(42)\n",
        "random.seed(42)"
      ],
      "metadata": {
        "id": "ulsryxW1niLV"
      },
      "execution_count": 16,
      "outputs": []
    },
    {
      "cell_type": "markdown",
      "source": [],
      "metadata": {
        "id": "Q1KxiZaFs0M6"
      }
    },
    {
      "cell_type": "code",
      "source": [
        "#setting the hyperparameters\n",
        "BATCH_SIZE=128\n",
        "EPOCHS=10\n",
        "LEARNING_RATE=3e-4\n",
        "PATH_SIZE=4\n",
        "NUM_CLASSES=10\n",
        "IMAGE_SIZE=32\n",
        "CHANNELS=3\n",
        "EMBED_DIM=256\n",
        "NUM_HEADS=8\n",
        "DEPTH=6\n",
        "MLP_DIM=512\n",
        "DROP_RATE=0.1\n"
      ],
      "metadata": {
        "id": "S6flSgFprFT_"
      },
      "execution_count": 17,
      "outputs": []
    },
    {
      "cell_type": "markdown",
      "source": [
        "Defining the transformers\n"
      ],
      "metadata": {
        "id": "OYSQ__nFs1Cw"
      }
    },
    {
      "cell_type": "code",
      "source": [
        "transform=transforms.Compose([\n",
        "    transforms.ToTensor(),\n",
        "    transforms.Normalize((0.5),(0.6))\n",
        "\n",
        "])"
      ],
      "metadata": {
        "id": "o8LJGj0bsyCI"
      },
      "execution_count": 19,
      "outputs": []
    },
    {
      "cell_type": "code",
      "source": [
        "#Getting a dataset\n",
        "train_dataset=datasets.CIFAR10(root='./data',train=True,download=True,transform=transform)\n",
        "test_dataset=datasets.CIFAR10(root='./data',train=False,download=True,transform=transform)\n"
      ],
      "metadata": {
        "colab": {
          "base_uri": "https://localhost:8080/"
        },
        "id": "KHx5z0NJtXUy",
        "outputId": "d421deea-6998-461b-cd5c-aa618785fee5"
      },
      "execution_count": 20,
      "outputs": [
        {
          "output_type": "stream",
          "name": "stderr",
          "text": [
            "100%|██████████| 170M/170M [00:01<00:00, 105MB/s]\n"
          ]
        }
      ]
    },
    {
      "cell_type": "code",
      "source": [
        "train_dataset"
      ],
      "metadata": {
        "colab": {
          "base_uri": "https://localhost:8080/"
        },
        "id": "rf026l55tjOi",
        "outputId": "7d5ca867-e4c0-4379-a185-6aacb1f3c852"
      },
      "execution_count": 22,
      "outputs": [
        {
          "output_type": "execute_result",
          "data": {
            "text/plain": [
              "Dataset CIFAR10\n",
              "    Number of datapoints: 50000\n",
              "    Root location: ./data\n",
              "    Split: Train\n",
              "    StandardTransform\n",
              "Transform: Compose(\n",
              "               ToTensor()\n",
              "               Normalize(mean=0.5, std=0.6)\n",
              "           )"
            ]
          },
          "metadata": {},
          "execution_count": 22
        }
      ]
    },
    {
      "cell_type": "code",
      "source": [
        "len(train_dataset)"
      ],
      "metadata": {
        "colab": {
          "base_uri": "https://localhost:8080/"
        },
        "id": "WuStTOFOvbEn",
        "outputId": "ff253dff-06a1-463c-97c2-175e52832356"
      },
      "execution_count": 23,
      "outputs": [
        {
          "output_type": "execute_result",
          "data": {
            "text/plain": [
              "50000"
            ]
          },
          "metadata": {},
          "execution_count": 23
        }
      ]
    },
    {
      "cell_type": "code",
      "source": [
        "## converting datasets into data loaders\n",
        "train_loader=DataLoader(dataset=train_dataset,\n",
        "                        batch_size=BATCH_SIZE,\n",
        "                        shuffle=False)\n",
        "test_loader=DataLoader(dataset=test_dataset,\n",
        "                       batch_size=BATCH_SIZE,\n",
        "                       shuffle=False)\n",
        ""
      ],
      "metadata": {
        "id": "4NHVhEMmwF0F"
      },
      "execution_count": 25,
      "outputs": []
    },
    {
      "cell_type": "code",
      "source": [
        "#Let's check out what we've created\n",
        "print(f\"DataLoader: {train_loader, test_loader}\")\n",
        "print(f\"Length of train loader : {len(train_loader) } batch\")"
      ],
      "metadata": {
        "colab": {
          "base_uri": "https://localhost:8080/"
        },
        "id": "5kE-TET9zUSh",
        "outputId": "80b55511-06bb-406a-a06d-f90f74a805db"
      },
      "execution_count": 26,
      "outputs": [
        {
          "output_type": "stream",
          "name": "stdout",
          "text": [
            "DataLoader: (<torch.utils.data.dataloader.DataLoader object at 0x7fecf5a2f3d0>, <torch.utils.data.dataloader.DataLoader object at 0x7fed08460b10>)\n",
            "Length of train loader : 391 batch\n"
          ]
        }
      ]
    },
    {
      "cell_type": "code",
      "source": [],
      "metadata": {
        "id": "hWapJj910vf4"
      },
      "execution_count": null,
      "outputs": []
    }
  ]
}